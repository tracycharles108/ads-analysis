{
 "cells": [
  {
   "cell_type": "markdown",
   "id": "9a2737ce",
   "metadata": {},
   "source": [
    "# Predicting Clicks on Ads and Understanding Variables to Improve Click Rates\n",
    "\n",
    "## Goal\n",
    "\n",
    "The goal of this project is to utilize machine learning tools to predict clicks on future ads and determine what factors influence clicks.\n",
    "\n",
    "## The Dataset\n",
    "\n",
    "Dataset used is obtained from Kaggle, uploaded by Gopal Chettri, linked here: https://www.kaggle.com/datasets/gopalchettri/advertisement\n",
    "\n",
    "This data set contains the following features:\n",
    "- 'Daily Time Spent on Site': consumer time on site in minutes\n",
    "- 'Age': customer age in years\n",
    "- 'Area Income': average income of geographical area of consumer, assumed in US dollars\n",
    "- 'Daily Internet Usage': average minutes a day consumer is on the internet\n",
    "- 'Ad Topic Line': headline of the advertisement\n",
    "- 'City': city location of consumer\n",
    "- 'Male': whether or not consumer is male\n",
    "- 'Country': country location of consumer\n",
    "- 'Timestamp': time at which consumer clicked on ad or closed window\n",
    "- 'Clicked on Ad': whether or not consumer clicked on ad"
   ]
  },
  {
   "cell_type": "code",
   "execution_count": 1,
   "id": "099c9132",
   "metadata": {},
   "outputs": [],
   "source": [
    "import pandas as pd\n",
    "df = pd.read_csv('advertising.csv')"
   ]
  },
  {
   "cell_type": "code",
   "execution_count": 2,
   "id": "ae7df7a3",
   "metadata": {},
   "outputs": [
    {
     "data": {
      "text/html": [
       "<div>\n",
       "<style scoped>\n",
       "    .dataframe tbody tr th:only-of-type {\n",
       "        vertical-align: middle;\n",
       "    }\n",
       "\n",
       "    .dataframe tbody tr th {\n",
       "        vertical-align: top;\n",
       "    }\n",
       "\n",
       "    .dataframe thead th {\n",
       "        text-align: right;\n",
       "    }\n",
       "</style>\n",
       "<table border=\"1\" class=\"dataframe\">\n",
       "  <thead>\n",
       "    <tr style=\"text-align: right;\">\n",
       "      <th></th>\n",
       "      <th>Daily Time Spent on Site</th>\n",
       "      <th>Age</th>\n",
       "      <th>Area Income</th>\n",
       "      <th>Daily Internet Usage</th>\n",
       "      <th>Ad Topic Line</th>\n",
       "      <th>City</th>\n",
       "      <th>Male</th>\n",
       "      <th>Country</th>\n",
       "      <th>Timestamp</th>\n",
       "      <th>Clicked on Ad</th>\n",
       "    </tr>\n",
       "  </thead>\n",
       "  <tbody>\n",
       "    <tr>\n",
       "      <th>0</th>\n",
       "      <td>68.95</td>\n",
       "      <td>35</td>\n",
       "      <td>61833.90</td>\n",
       "      <td>256.09</td>\n",
       "      <td>Cloned 5thgeneration orchestration</td>\n",
       "      <td>Wrightburgh</td>\n",
       "      <td>0</td>\n",
       "      <td>Tunisia</td>\n",
       "      <td>2016-03-27 00:53:11</td>\n",
       "      <td>0</td>\n",
       "    </tr>\n",
       "    <tr>\n",
       "      <th>1</th>\n",
       "      <td>80.23</td>\n",
       "      <td>31</td>\n",
       "      <td>68441.85</td>\n",
       "      <td>193.77</td>\n",
       "      <td>Monitored national standardization</td>\n",
       "      <td>West Jodi</td>\n",
       "      <td>1</td>\n",
       "      <td>Nauru</td>\n",
       "      <td>2016-04-04 01:39:02</td>\n",
       "      <td>0</td>\n",
       "    </tr>\n",
       "    <tr>\n",
       "      <th>2</th>\n",
       "      <td>69.47</td>\n",
       "      <td>26</td>\n",
       "      <td>59785.94</td>\n",
       "      <td>236.50</td>\n",
       "      <td>Organic bottom-line service-desk</td>\n",
       "      <td>Davidton</td>\n",
       "      <td>0</td>\n",
       "      <td>San Marino</td>\n",
       "      <td>2016-03-13 20:35:42</td>\n",
       "      <td>0</td>\n",
       "    </tr>\n",
       "    <tr>\n",
       "      <th>3</th>\n",
       "      <td>74.15</td>\n",
       "      <td>29</td>\n",
       "      <td>54806.18</td>\n",
       "      <td>245.89</td>\n",
       "      <td>Triple-buffered reciprocal time-frame</td>\n",
       "      <td>West Terrifurt</td>\n",
       "      <td>1</td>\n",
       "      <td>Italy</td>\n",
       "      <td>2016-01-10 02:31:19</td>\n",
       "      <td>0</td>\n",
       "    </tr>\n",
       "    <tr>\n",
       "      <th>4</th>\n",
       "      <td>68.37</td>\n",
       "      <td>35</td>\n",
       "      <td>73889.99</td>\n",
       "      <td>225.58</td>\n",
       "      <td>Robust logistical utilization</td>\n",
       "      <td>South Manuel</td>\n",
       "      <td>0</td>\n",
       "      <td>Iceland</td>\n",
       "      <td>2016-06-03 03:36:18</td>\n",
       "      <td>0</td>\n",
       "    </tr>\n",
       "  </tbody>\n",
       "</table>\n",
       "</div>"
      ],
      "text/plain": [
       "   Daily Time Spent on Site  Age  Area Income  Daily Internet Usage  \\\n",
       "0                     68.95   35     61833.90                256.09   \n",
       "1                     80.23   31     68441.85                193.77   \n",
       "2                     69.47   26     59785.94                236.50   \n",
       "3                     74.15   29     54806.18                245.89   \n",
       "4                     68.37   35     73889.99                225.58   \n",
       "\n",
       "                           Ad Topic Line            City  Male     Country  \\\n",
       "0     Cloned 5thgeneration orchestration     Wrightburgh     0     Tunisia   \n",
       "1     Monitored national standardization       West Jodi     1       Nauru   \n",
       "2       Organic bottom-line service-desk        Davidton     0  San Marino   \n",
       "3  Triple-buffered reciprocal time-frame  West Terrifurt     1       Italy   \n",
       "4          Robust logistical utilization    South Manuel     0     Iceland   \n",
       "\n",
       "             Timestamp  Clicked on Ad  \n",
       "0  2016-03-27 00:53:11              0  \n",
       "1  2016-04-04 01:39:02              0  \n",
       "2  2016-03-13 20:35:42              0  \n",
       "3  2016-01-10 02:31:19              0  \n",
       "4  2016-06-03 03:36:18              0  "
      ]
     },
     "execution_count": 2,
     "metadata": {},
     "output_type": "execute_result"
    }
   ],
   "source": [
    "df.head()"
   ]
  },
  {
   "cell_type": "code",
   "execution_count": 3,
   "id": "c24e96e4",
   "metadata": {},
   "outputs": [
    {
     "name": "stdout",
     "output_type": "stream",
     "text": [
      "(1000, 10)\n"
     ]
    }
   ],
   "source": [
    "print(df.shape)"
   ]
  },
  {
   "cell_type": "markdown",
   "id": "b62b2127",
   "metadata": {},
   "source": [
    "There are 1000 rows and 10 columns.\n",
    "\n",
    "Since the city locations might be too granular for us to consider, we can drop the City column."
   ]
  },
  {
   "cell_type": "code",
   "execution_count": 4,
   "id": "8548dc9b",
   "metadata": {},
   "outputs": [],
   "source": [
    "df = df.drop(['City'], axis = 1)"
   ]
  },
  {
   "cell_type": "markdown",
   "id": "8e609a9a",
   "metadata": {},
   "source": [
    "### Cleaning and Examining the Dataset\n",
    "\n",
    "We can check for NaN values and duplicate rows."
   ]
  },
  {
   "cell_type": "code",
   "execution_count": 5,
   "id": "a5e0a938",
   "metadata": {},
   "outputs": [
    {
     "name": "stdout",
     "output_type": "stream",
     "text": [
      "Number of NaN values:\n",
      "Daily Time Spent on Site    0\n",
      "Age                         0\n",
      "Area Income                 0\n",
      "Daily Internet Usage        0\n",
      "Ad Topic Line               0\n",
      "Male                        0\n",
      "Country                     0\n",
      "Timestamp                   0\n",
      "Clicked on Ad               0\n",
      "dtype: int64\n",
      "Number of duplicate rows: 0\n"
     ]
    }
   ],
   "source": [
    "# check NaN values\n",
    "print('Number of NaN values:')\n",
    "print(pd.isna(df).sum(axis = 0))\n",
    "\n",
    "# check duplicates\n",
    "print('Number of duplicate rows:', sum(df.duplicated()))"
   ]
  },
  {
   "cell_type": "markdown",
   "id": "08cf27db",
   "metadata": {},
   "source": [
    "We can further look at the ranges of each variable."
   ]
  },
  {
   "cell_type": "code",
   "execution_count": 6,
   "id": "2864a452",
   "metadata": {},
   "outputs": [
    {
     "name": "stdout",
     "output_type": "stream",
     "text": [
      "Range of Daily Time on Site (minutes): 32.6  to  91.43\n",
      "Consumer Age Range:  19  to  61\n",
      "Area Income Range (US$):  13996.5  to  79484.8\n",
      "Range of Daily Internet Usage (minutes):  104.78  to  269.96\n",
      "Number of distinct Ad Topic Lines in dataset:  1000\n",
      "Fraction of Males in dataset:  0.481\n",
      "Number of Countries in dataset:  237\n",
      "Timeframe of data:  2016-01-01 02:52:10  to  2016-07-24 00:22:16\n",
      "Fraction of people who Clicked on Ad:  0.5\n"
     ]
    }
   ],
   "source": [
    "# range of daily time on site\n",
    "print('Range of Daily Time on Site (minutes):', min(df['Daily Time Spent on Site']), ' to ',\n",
    "      max(df['Daily Time Spent on Site']))\n",
    "\n",
    "# age range of consumer\n",
    "print('Consumer Age Range: ', min(df['Age']), ' to ', max(df['Age']))\n",
    "\n",
    "# range of area income\n",
    "print('Area Income Range (US$): ', min(df['Area Income']), ' to ', max(df['Area Income']))\n",
    "\n",
    "# range of internet usage\n",
    "print('Range of Daily Internet Usage (minutes): ', min(df['Daily Internet Usage']), ' to ', max(df['Daily Internet Usage']))\n",
    "\n",
    "# number of distinct ad topic lines\n",
    "print('Number of distinct Ad Topic Lines in dataset: ', len(set(df['Ad Topic Line'])))\n",
    "\n",
    "# male ratio\n",
    "print('Fraction of Males in dataset: ', sum(df['Male']) / len(df))\n",
    "\n",
    "# number of countries\n",
    "print('Number of Countries in dataset: ', len(set(df['Country'])))\n",
    "\n",
    "# timeframe of data\n",
    "print('Timeframe of data: ', min(df['Timestamp']), ' to ', max(df['Timestamp']))\n",
    "\n",
    "# check ratio of people who clicked on dataset\n",
    "print('Fraction of people who Clicked on Ad: ', sum(df['Clicked on Ad']) / len(df))"
   ]
  },
  {
   "cell_type": "markdown",
   "id": "03bd26ee",
   "metadata": {},
   "source": [
    "### Splitting Timestamp Column\n",
    "\n",
    "We can split the Timestamp column to Month, Weekday, and Hour. Since the data only ranges from Jan 2016 to July 2016, there is no need to consider Year. Also, Minute and Second are too granular, so we can leave those out as well."
   ]
  },
  {
   "cell_type": "code",
   "execution_count": 7,
   "id": "d3e4bc4b",
   "metadata": {},
   "outputs": [
    {
     "data": {
      "text/plain": [
       "str"
      ]
     },
     "execution_count": 7,
     "metadata": {},
     "output_type": "execute_result"
    }
   ],
   "source": [
    "type(df['Timestamp'][0])"
   ]
  },
  {
   "cell_type": "markdown",
   "id": "627864e9",
   "metadata": {},
   "source": [
    "The Timestamp column currently has data of type `str`. Then we need to use the `datetime` module to extract relevant information."
   ]
  },
  {
   "cell_type": "code",
   "execution_count": 8,
   "id": "cb8ca2fe",
   "metadata": {},
   "outputs": [],
   "source": [
    "import datetime\n",
    "\n",
    "def change_datetime(strdate):\n",
    "    dt_tuple = tuple([int(x) for x in strdate[:10].split('-')]) + tuple([int(x) for x in strdate[11:].split(':')])\n",
    "    return datetime.datetime(*dt_tuple)"
   ]
  },
  {
   "cell_type": "code",
   "execution_count": 9,
   "id": "1a0bd967",
   "metadata": {},
   "outputs": [
    {
     "data": {
      "text/plain": [
       "datetime.datetime(2017, 1, 2, 3, 12, 34)"
      ]
     },
     "execution_count": 9,
     "metadata": {},
     "output_type": "execute_result"
    }
   ],
   "source": [
    "# example\n",
    "\n",
    "strdate = '2017-01-02 03:12:34'\n",
    "change_datetime(strdate)"
   ]
  },
  {
   "cell_type": "markdown",
   "id": "43c9b521",
   "metadata": {},
   "source": [
    "We can now convert the Timestamp column data to `datetime` and add new columns for Month, Weekday, and Hour."
   ]
  },
  {
   "cell_type": "code",
   "execution_count": 10,
   "id": "cb9ecce9",
   "metadata": {},
   "outputs": [],
   "source": [
    "df['Timestamp'] = df['Timestamp'].apply(change_datetime)\n",
    "df['Month'] = df['Timestamp'].apply(lambda x: x.month)\n",
    "df['Weekday'] = df['Timestamp'].apply(lambda x: x.weekday())\n",
    "df['Hour'] = df['Timestamp'].apply(lambda x: x.hour)"
   ]
  },
  {
   "cell_type": "markdown",
   "id": "9d71aa70",
   "metadata": {},
   "source": [
    "Since Timestamp is not needed anymore, we can simply drop that column."
   ]
  },
  {
   "cell_type": "code",
   "execution_count": 11,
   "id": "a363986c",
   "metadata": {},
   "outputs": [
    {
     "data": {
      "text/html": [
       "<div>\n",
       "<style scoped>\n",
       "    .dataframe tbody tr th:only-of-type {\n",
       "        vertical-align: middle;\n",
       "    }\n",
       "\n",
       "    .dataframe tbody tr th {\n",
       "        vertical-align: top;\n",
       "    }\n",
       "\n",
       "    .dataframe thead th {\n",
       "        text-align: right;\n",
       "    }\n",
       "</style>\n",
       "<table border=\"1\" class=\"dataframe\">\n",
       "  <thead>\n",
       "    <tr style=\"text-align: right;\">\n",
       "      <th></th>\n",
       "      <th>Daily Time Spent on Site</th>\n",
       "      <th>Age</th>\n",
       "      <th>Area Income</th>\n",
       "      <th>Daily Internet Usage</th>\n",
       "      <th>Ad Topic Line</th>\n",
       "      <th>Male</th>\n",
       "      <th>Country</th>\n",
       "      <th>Clicked on Ad</th>\n",
       "      <th>Month</th>\n",
       "      <th>Weekday</th>\n",
       "      <th>Hour</th>\n",
       "    </tr>\n",
       "  </thead>\n",
       "  <tbody>\n",
       "    <tr>\n",
       "      <th>0</th>\n",
       "      <td>68.95</td>\n",
       "      <td>35</td>\n",
       "      <td>61833.90</td>\n",
       "      <td>256.09</td>\n",
       "      <td>Cloned 5thgeneration orchestration</td>\n",
       "      <td>0</td>\n",
       "      <td>Tunisia</td>\n",
       "      <td>0</td>\n",
       "      <td>3</td>\n",
       "      <td>6</td>\n",
       "      <td>0</td>\n",
       "    </tr>\n",
       "    <tr>\n",
       "      <th>1</th>\n",
       "      <td>80.23</td>\n",
       "      <td>31</td>\n",
       "      <td>68441.85</td>\n",
       "      <td>193.77</td>\n",
       "      <td>Monitored national standardization</td>\n",
       "      <td>1</td>\n",
       "      <td>Nauru</td>\n",
       "      <td>0</td>\n",
       "      <td>4</td>\n",
       "      <td>0</td>\n",
       "      <td>1</td>\n",
       "    </tr>\n",
       "    <tr>\n",
       "      <th>2</th>\n",
       "      <td>69.47</td>\n",
       "      <td>26</td>\n",
       "      <td>59785.94</td>\n",
       "      <td>236.50</td>\n",
       "      <td>Organic bottom-line service-desk</td>\n",
       "      <td>0</td>\n",
       "      <td>San Marino</td>\n",
       "      <td>0</td>\n",
       "      <td>3</td>\n",
       "      <td>6</td>\n",
       "      <td>20</td>\n",
       "    </tr>\n",
       "    <tr>\n",
       "      <th>3</th>\n",
       "      <td>74.15</td>\n",
       "      <td>29</td>\n",
       "      <td>54806.18</td>\n",
       "      <td>245.89</td>\n",
       "      <td>Triple-buffered reciprocal time-frame</td>\n",
       "      <td>1</td>\n",
       "      <td>Italy</td>\n",
       "      <td>0</td>\n",
       "      <td>1</td>\n",
       "      <td>6</td>\n",
       "      <td>2</td>\n",
       "    </tr>\n",
       "    <tr>\n",
       "      <th>4</th>\n",
       "      <td>68.37</td>\n",
       "      <td>35</td>\n",
       "      <td>73889.99</td>\n",
       "      <td>225.58</td>\n",
       "      <td>Robust logistical utilization</td>\n",
       "      <td>0</td>\n",
       "      <td>Iceland</td>\n",
       "      <td>0</td>\n",
       "      <td>6</td>\n",
       "      <td>4</td>\n",
       "      <td>3</td>\n",
       "    </tr>\n",
       "  </tbody>\n",
       "</table>\n",
       "</div>"
      ],
      "text/plain": [
       "   Daily Time Spent on Site  Age  Area Income  Daily Internet Usage  \\\n",
       "0                     68.95   35     61833.90                256.09   \n",
       "1                     80.23   31     68441.85                193.77   \n",
       "2                     69.47   26     59785.94                236.50   \n",
       "3                     74.15   29     54806.18                245.89   \n",
       "4                     68.37   35     73889.99                225.58   \n",
       "\n",
       "                           Ad Topic Line  Male     Country  Clicked on Ad  \\\n",
       "0     Cloned 5thgeneration orchestration     0     Tunisia              0   \n",
       "1     Monitored national standardization     1       Nauru              0   \n",
       "2       Organic bottom-line service-desk     0  San Marino              0   \n",
       "3  Triple-buffered reciprocal time-frame     1       Italy              0   \n",
       "4          Robust logistical utilization     0     Iceland              0   \n",
       "\n",
       "   Month  Weekday  Hour  \n",
       "0      3        6     0  \n",
       "1      4        0     1  \n",
       "2      3        6    20  \n",
       "3      1        6     2  \n",
       "4      6        4     3  "
      ]
     },
     "execution_count": 11,
     "metadata": {},
     "output_type": "execute_result"
    }
   ],
   "source": [
    "df = df.drop('Timestamp', axis = 1)\n",
    "df.head()"
   ]
  },
  {
   "cell_type": "markdown",
   "id": "fb2a3b72",
   "metadata": {},
   "source": [
    "### Add Continent Column\n",
    "\n",
    "We can attempt to add a Continent variable and observe if the continent location influences clicks or not."
   ]
  },
  {
   "cell_type": "code",
   "execution_count": 12,
   "id": "fa37cfa1",
   "metadata": {},
   "outputs": [],
   "source": [
    "import pycountry_convert as pc\n",
    "\n",
    "def country_to_continent(country_name):\n",
    "    try: \n",
    "        country_code = pc.country_name_to_country_alpha2(country_name, cn_name_format=\"default\")\n",
    "        continent_code = pc.country_alpha2_to_continent_code(country_code)\n",
    "        continents = {\n",
    "        'NA': 'North America',\n",
    "        'SA': 'South America', \n",
    "        'AS': 'Asia',\n",
    "        'OC': 'Oceania',\n",
    "        'AF': 'Africa',\n",
    "        'EU': 'Europe'}\n",
    "        return continents[continent_code]\n",
    "    except:\n",
    "        return ''"
   ]
  },
  {
   "cell_type": "code",
   "execution_count": 13,
   "id": "eb773fc3",
   "metadata": {},
   "outputs": [
    {
     "data": {
      "text/html": [
       "<div>\n",
       "<style scoped>\n",
       "    .dataframe tbody tr th:only-of-type {\n",
       "        vertical-align: middle;\n",
       "    }\n",
       "\n",
       "    .dataframe tbody tr th {\n",
       "        vertical-align: top;\n",
       "    }\n",
       "\n",
       "    .dataframe thead th {\n",
       "        text-align: right;\n",
       "    }\n",
       "</style>\n",
       "<table border=\"1\" class=\"dataframe\">\n",
       "  <thead>\n",
       "    <tr style=\"text-align: right;\">\n",
       "      <th></th>\n",
       "      <th>Daily Time Spent on Site</th>\n",
       "      <th>Age</th>\n",
       "      <th>Area Income</th>\n",
       "      <th>Daily Internet Usage</th>\n",
       "      <th>Ad Topic Line</th>\n",
       "      <th>Male</th>\n",
       "      <th>Country</th>\n",
       "      <th>Clicked on Ad</th>\n",
       "      <th>Month</th>\n",
       "      <th>Weekday</th>\n",
       "      <th>Hour</th>\n",
       "      <th>Continent</th>\n",
       "    </tr>\n",
       "  </thead>\n",
       "  <tbody>\n",
       "    <tr>\n",
       "      <th>0</th>\n",
       "      <td>68.95</td>\n",
       "      <td>35</td>\n",
       "      <td>61833.90</td>\n",
       "      <td>256.09</td>\n",
       "      <td>Cloned 5thgeneration orchestration</td>\n",
       "      <td>0</td>\n",
       "      <td>Tunisia</td>\n",
       "      <td>0</td>\n",
       "      <td>3</td>\n",
       "      <td>6</td>\n",
       "      <td>0</td>\n",
       "      <td>Africa</td>\n",
       "    </tr>\n",
       "    <tr>\n",
       "      <th>1</th>\n",
       "      <td>80.23</td>\n",
       "      <td>31</td>\n",
       "      <td>68441.85</td>\n",
       "      <td>193.77</td>\n",
       "      <td>Monitored national standardization</td>\n",
       "      <td>1</td>\n",
       "      <td>Nauru</td>\n",
       "      <td>0</td>\n",
       "      <td>4</td>\n",
       "      <td>0</td>\n",
       "      <td>1</td>\n",
       "      <td>Oceania</td>\n",
       "    </tr>\n",
       "    <tr>\n",
       "      <th>2</th>\n",
       "      <td>69.47</td>\n",
       "      <td>26</td>\n",
       "      <td>59785.94</td>\n",
       "      <td>236.50</td>\n",
       "      <td>Organic bottom-line service-desk</td>\n",
       "      <td>0</td>\n",
       "      <td>San Marino</td>\n",
       "      <td>0</td>\n",
       "      <td>3</td>\n",
       "      <td>6</td>\n",
       "      <td>20</td>\n",
       "      <td>Europe</td>\n",
       "    </tr>\n",
       "    <tr>\n",
       "      <th>3</th>\n",
       "      <td>74.15</td>\n",
       "      <td>29</td>\n",
       "      <td>54806.18</td>\n",
       "      <td>245.89</td>\n",
       "      <td>Triple-buffered reciprocal time-frame</td>\n",
       "      <td>1</td>\n",
       "      <td>Italy</td>\n",
       "      <td>0</td>\n",
       "      <td>1</td>\n",
       "      <td>6</td>\n",
       "      <td>2</td>\n",
       "      <td>Europe</td>\n",
       "    </tr>\n",
       "    <tr>\n",
       "      <th>4</th>\n",
       "      <td>68.37</td>\n",
       "      <td>35</td>\n",
       "      <td>73889.99</td>\n",
       "      <td>225.58</td>\n",
       "      <td>Robust logistical utilization</td>\n",
       "      <td>0</td>\n",
       "      <td>Iceland</td>\n",
       "      <td>0</td>\n",
       "      <td>6</td>\n",
       "      <td>4</td>\n",
       "      <td>3</td>\n",
       "      <td>Europe</td>\n",
       "    </tr>\n",
       "  </tbody>\n",
       "</table>\n",
       "</div>"
      ],
      "text/plain": [
       "   Daily Time Spent on Site  Age  Area Income  Daily Internet Usage  \\\n",
       "0                     68.95   35     61833.90                256.09   \n",
       "1                     80.23   31     68441.85                193.77   \n",
       "2                     69.47   26     59785.94                236.50   \n",
       "3                     74.15   29     54806.18                245.89   \n",
       "4                     68.37   35     73889.99                225.58   \n",
       "\n",
       "                           Ad Topic Line  Male     Country  Clicked on Ad  \\\n",
       "0     Cloned 5thgeneration orchestration     0     Tunisia              0   \n",
       "1     Monitored national standardization     1       Nauru              0   \n",
       "2       Organic bottom-line service-desk     0  San Marino              0   \n",
       "3  Triple-buffered reciprocal time-frame     1       Italy              0   \n",
       "4          Robust logistical utilization     0     Iceland              0   \n",
       "\n",
       "   Month  Weekday  Hour Continent  \n",
       "0      3        6     0    Africa  \n",
       "1      4        0     1   Oceania  \n",
       "2      3        6    20    Europe  \n",
       "3      1        6     2    Europe  \n",
       "4      6        4     3    Europe  "
      ]
     },
     "execution_count": 13,
     "metadata": {},
     "output_type": "execute_result"
    }
   ],
   "source": [
    "df['Continent'] = df['Country'].apply(country_to_continent)\n",
    "df.head()"
   ]
  },
  {
   "cell_type": "markdown",
   "id": "3efe89b1",
   "metadata": {},
   "source": [
    "Some of the Continent column data is empty because the country is not listed in the module. Then we can try to add them manually. We can split the dataframe into one with filled Continent data and one without. We can add the Continent variable manually to the one without and finally, concatenate the two dataframes together."
   ]
  },
  {
   "cell_type": "code",
   "execution_count": 14,
   "id": "98e24160",
   "metadata": {},
   "outputs": [],
   "source": [
    "# split into with listed continent and non-listed continent\n",
    "\n",
    "df_withcontinent = df[df['Continent'] != '']\n",
    "df_withoutcontinent = df[df['Continent'] == '']"
   ]
  },
  {
   "cell_type": "code",
   "execution_count": 15,
   "id": "da2d99e5",
   "metadata": {},
   "outputs": [
    {
     "data": {
      "text/plain": [
       "{'Antarctica (the territory South of 60 deg S)',\n",
       " 'Bouvet Island (Bouvetoya)',\n",
       " 'British Indian Ocean Territory (Chagos Archipelago)',\n",
       " \"Cote d'Ivoire\",\n",
       " 'French Southern Territories',\n",
       " 'Heard Island and McDonald Islands',\n",
       " 'Holy See (Vatican City State)',\n",
       " 'Korea',\n",
       " 'Libyan Arab Jamahiriya',\n",
       " 'Netherlands Antilles',\n",
       " 'Palestinian Territory',\n",
       " 'Pitcairn Islands',\n",
       " 'Reunion',\n",
       " 'Saint Barthelemy',\n",
       " 'Saint Helena',\n",
       " 'Slovakia (Slovak Republic)',\n",
       " 'Svalbard & Jan Mayen Islands',\n",
       " 'Timor-Leste',\n",
       " 'United States Minor Outlying Islands',\n",
       " 'Western Sahara'}"
      ]
     },
     "execution_count": 15,
     "metadata": {},
     "output_type": "execute_result"
    }
   ],
   "source": [
    "# check countries with no code in package\n",
    "\n",
    "set(df_withoutcontinent['Country'])"
   ]
  },
  {
   "cell_type": "code",
   "execution_count": 16,
   "id": "56535a42",
   "metadata": {},
   "outputs": [],
   "source": [
    "def add_continent(country_name):\n",
    "    continents = {'Antarctica (the territory South of 60 deg S)': 'Antartica',\n",
    "     'Bouvet Island (Bouvetoya)': 'Antartica',\n",
    "     'British Indian Ocean Territory (Chagos Archipelago)': 'Asia',\n",
    "     \"Cote d'Ivoire\": 'Africa',\n",
    "     'French Southern Territories': 'Europe',\n",
    "     'Heard Island and McDonald Islands': 'Antartica',\n",
    "     'Holy See (Vatican City State)': 'Europe',\n",
    "     'Korea': 'Asia',\n",
    "     'Libyan Arab Jamahiriya': 'Africa',\n",
    "     'Netherlands Antilles': 'North America',\n",
    "     'Palestinian Territory': 'Asia',\n",
    "     'Pitcairn Islands': 'Oceania',\n",
    "     'Reunion': 'Europe',\n",
    "     'Saint Barthelemy': 'North America',\n",
    "     'Saint Helena': 'Africa',\n",
    "     'Slovakia (Slovak Republic)': 'Europe',\n",
    "     'Svalbard & Jan Mayen Islands': 'Europe',\n",
    "     'Timor-Leste': 'Asia',\n",
    "     'United States Minor Outlying Islands': 'North America',\n",
    "     'Western Sahara': 'Africa'}\n",
    "    return continents[country_name]\n",
    "\n",
    "# the information for the continents are obtained from various online\n",
    "# sources such as Wikipedia"
   ]
  },
  {
   "cell_type": "code",
   "execution_count": 17,
   "id": "9fa1e742",
   "metadata": {},
   "outputs": [
    {
     "name": "stderr",
     "output_type": "stream",
     "text": [
      "C:\\Users\\tracy\\AppData\\Local\\Temp/ipykernel_13492/1889801857.py:1: SettingWithCopyWarning: \n",
      "A value is trying to be set on a copy of a slice from a DataFrame.\n",
      "Try using .loc[row_indexer,col_indexer] = value instead\n",
      "\n",
      "See the caveats in the documentation: https://pandas.pydata.org/pandas-docs/stable/user_guide/indexing.html#returning-a-view-versus-a-copy\n",
      "  df_withoutcontinent['Continent'] = df_withoutcontinent['Country'].apply(add_continent)\n"
     ]
    }
   ],
   "source": [
    "df_withoutcontinent['Continent'] = df_withoutcontinent['Country'].apply(add_continent)"
   ]
  },
  {
   "cell_type": "code",
   "execution_count": 18,
   "id": "93b6d35c",
   "metadata": {},
   "outputs": [
    {
     "data": {
      "text/html": [
       "<div>\n",
       "<style scoped>\n",
       "    .dataframe tbody tr th:only-of-type {\n",
       "        vertical-align: middle;\n",
       "    }\n",
       "\n",
       "    .dataframe tbody tr th {\n",
       "        vertical-align: top;\n",
       "    }\n",
       "\n",
       "    .dataframe thead th {\n",
       "        text-align: right;\n",
       "    }\n",
       "</style>\n",
       "<table border=\"1\" class=\"dataframe\">\n",
       "  <thead>\n",
       "    <tr style=\"text-align: right;\">\n",
       "      <th></th>\n",
       "      <th>Daily Time Spent on Site</th>\n",
       "      <th>Age</th>\n",
       "      <th>Area Income</th>\n",
       "      <th>Daily Internet Usage</th>\n",
       "      <th>Ad Topic Line</th>\n",
       "      <th>Male</th>\n",
       "      <th>Country</th>\n",
       "      <th>Clicked on Ad</th>\n",
       "      <th>Month</th>\n",
       "      <th>Weekday</th>\n",
       "      <th>Hour</th>\n",
       "      <th>Continent</th>\n",
       "    </tr>\n",
       "  </thead>\n",
       "  <tbody>\n",
       "    <tr>\n",
       "      <th>16</th>\n",
       "      <td>55.39</td>\n",
       "      <td>37</td>\n",
       "      <td>23936.86</td>\n",
       "      <td>129.41</td>\n",
       "      <td>Customizable multi-tasking website</td>\n",
       "      <td>0</td>\n",
       "      <td>Palestinian Territory</td>\n",
       "      <td>1</td>\n",
       "      <td>1</td>\n",
       "      <td>5</td>\n",
       "      <td>19</td>\n",
       "      <td>Asia</td>\n",
       "    </tr>\n",
       "    <tr>\n",
       "      <th>18</th>\n",
       "      <td>54.70</td>\n",
       "      <td>36</td>\n",
       "      <td>31087.54</td>\n",
       "      <td>118.39</td>\n",
       "      <td>Grass-roots solution-oriented conglomeration</td>\n",
       "      <td>1</td>\n",
       "      <td>British Indian Ocean Territory (Chagos Archipe...</td>\n",
       "      <td>1</td>\n",
       "      <td>2</td>\n",
       "      <td>5</td>\n",
       "      <td>7</td>\n",
       "      <td>Asia</td>\n",
       "    </tr>\n",
       "    <tr>\n",
       "      <th>23</th>\n",
       "      <td>87.29</td>\n",
       "      <td>36</td>\n",
       "      <td>61628.72</td>\n",
       "      <td>209.93</td>\n",
       "      <td>Future-proofed methodical protocol</td>\n",
       "      <td>1</td>\n",
       "      <td>Korea</td>\n",
       "      <td>0</td>\n",
       "      <td>3</td>\n",
       "      <td>2</td>\n",
       "      <td>9</td>\n",
       "      <td>Asia</td>\n",
       "    </tr>\n",
       "    <tr>\n",
       "      <th>29</th>\n",
       "      <td>76.02</td>\n",
       "      <td>22</td>\n",
       "      <td>46179.97</td>\n",
       "      <td>209.82</td>\n",
       "      <td>Business-focused value-added definition</td>\n",
       "      <td>0</td>\n",
       "      <td>Bouvet Island (Bouvetoya)</td>\n",
       "      <td>0</td>\n",
       "      <td>1</td>\n",
       "      <td>2</td>\n",
       "      <td>12</td>\n",
       "      <td>Antartica</td>\n",
       "    </tr>\n",
       "    <tr>\n",
       "      <th>38</th>\n",
       "      <td>50.43</td>\n",
       "      <td>46</td>\n",
       "      <td>57425.87</td>\n",
       "      <td>119.32</td>\n",
       "      <td>Persevering needs-based open architecture</td>\n",
       "      <td>1</td>\n",
       "      <td>Saint Helena</td>\n",
       "      <td>1</td>\n",
       "      <td>5</td>\n",
       "      <td>5</td>\n",
       "      <td>17</td>\n",
       "      <td>Africa</td>\n",
       "    </tr>\n",
       "  </tbody>\n",
       "</table>\n",
       "</div>"
      ],
      "text/plain": [
       "    Daily Time Spent on Site  Age  Area Income  Daily Internet Usage  \\\n",
       "16                     55.39   37     23936.86                129.41   \n",
       "18                     54.70   36     31087.54                118.39   \n",
       "23                     87.29   36     61628.72                209.93   \n",
       "29                     76.02   22     46179.97                209.82   \n",
       "38                     50.43   46     57425.87                119.32   \n",
       "\n",
       "                                   Ad Topic Line  Male  \\\n",
       "16            Customizable multi-tasking website     0   \n",
       "18  Grass-roots solution-oriented conglomeration     1   \n",
       "23            Future-proofed methodical protocol     1   \n",
       "29       Business-focused value-added definition     0   \n",
       "38     Persevering needs-based open architecture     1   \n",
       "\n",
       "                                              Country  Clicked on Ad  Month  \\\n",
       "16                              Palestinian Territory              1      1   \n",
       "18  British Indian Ocean Territory (Chagos Archipe...              1      2   \n",
       "23                                              Korea              0      3   \n",
       "29                          Bouvet Island (Bouvetoya)              0      1   \n",
       "38                                       Saint Helena              1      5   \n",
       "\n",
       "    Weekday  Hour  Continent  \n",
       "16        5    19       Asia  \n",
       "18        5     7       Asia  \n",
       "23        2     9       Asia  \n",
       "29        2    12  Antartica  \n",
       "38        5    17     Africa  "
      ]
     },
     "execution_count": 18,
     "metadata": {},
     "output_type": "execute_result"
    }
   ],
   "source": [
    "# check the non-listed part has continent\n",
    "\n",
    "df_withoutcontinent.head()"
   ]
  },
  {
   "cell_type": "code",
   "execution_count": 19,
   "id": "c96ad3ad",
   "metadata": {},
   "outputs": [
    {
     "data": {
      "text/html": [
       "<div>\n",
       "<style scoped>\n",
       "    .dataframe tbody tr th:only-of-type {\n",
       "        vertical-align: middle;\n",
       "    }\n",
       "\n",
       "    .dataframe tbody tr th {\n",
       "        vertical-align: top;\n",
       "    }\n",
       "\n",
       "    .dataframe thead th {\n",
       "        text-align: right;\n",
       "    }\n",
       "</style>\n",
       "<table border=\"1\" class=\"dataframe\">\n",
       "  <thead>\n",
       "    <tr style=\"text-align: right;\">\n",
       "      <th></th>\n",
       "      <th>Daily Time Spent on Site</th>\n",
       "      <th>Age</th>\n",
       "      <th>Area Income</th>\n",
       "      <th>Daily Internet Usage</th>\n",
       "      <th>Ad Topic Line</th>\n",
       "      <th>Male</th>\n",
       "      <th>Country</th>\n",
       "      <th>Clicked on Ad</th>\n",
       "      <th>Month</th>\n",
       "      <th>Weekday</th>\n",
       "      <th>Hour</th>\n",
       "      <th>Continent</th>\n",
       "    </tr>\n",
       "  </thead>\n",
       "  <tbody>\n",
       "    <tr>\n",
       "      <th>0</th>\n",
       "      <td>68.95</td>\n",
       "      <td>35</td>\n",
       "      <td>61833.90</td>\n",
       "      <td>256.09</td>\n",
       "      <td>Cloned 5thgeneration orchestration</td>\n",
       "      <td>0</td>\n",
       "      <td>Tunisia</td>\n",
       "      <td>0</td>\n",
       "      <td>3</td>\n",
       "      <td>6</td>\n",
       "      <td>0</td>\n",
       "      <td>Africa</td>\n",
       "    </tr>\n",
       "    <tr>\n",
       "      <th>1</th>\n",
       "      <td>80.23</td>\n",
       "      <td>31</td>\n",
       "      <td>68441.85</td>\n",
       "      <td>193.77</td>\n",
       "      <td>Monitored national standardization</td>\n",
       "      <td>1</td>\n",
       "      <td>Nauru</td>\n",
       "      <td>0</td>\n",
       "      <td>4</td>\n",
       "      <td>0</td>\n",
       "      <td>1</td>\n",
       "      <td>Oceania</td>\n",
       "    </tr>\n",
       "    <tr>\n",
       "      <th>2</th>\n",
       "      <td>69.47</td>\n",
       "      <td>26</td>\n",
       "      <td>59785.94</td>\n",
       "      <td>236.50</td>\n",
       "      <td>Organic bottom-line service-desk</td>\n",
       "      <td>0</td>\n",
       "      <td>San Marino</td>\n",
       "      <td>0</td>\n",
       "      <td>3</td>\n",
       "      <td>6</td>\n",
       "      <td>20</td>\n",
       "      <td>Europe</td>\n",
       "    </tr>\n",
       "    <tr>\n",
       "      <th>3</th>\n",
       "      <td>74.15</td>\n",
       "      <td>29</td>\n",
       "      <td>54806.18</td>\n",
       "      <td>245.89</td>\n",
       "      <td>Triple-buffered reciprocal time-frame</td>\n",
       "      <td>1</td>\n",
       "      <td>Italy</td>\n",
       "      <td>0</td>\n",
       "      <td>1</td>\n",
       "      <td>6</td>\n",
       "      <td>2</td>\n",
       "      <td>Europe</td>\n",
       "    </tr>\n",
       "    <tr>\n",
       "      <th>4</th>\n",
       "      <td>68.37</td>\n",
       "      <td>35</td>\n",
       "      <td>73889.99</td>\n",
       "      <td>225.58</td>\n",
       "      <td>Robust logistical utilization</td>\n",
       "      <td>0</td>\n",
       "      <td>Iceland</td>\n",
       "      <td>0</td>\n",
       "      <td>6</td>\n",
       "      <td>4</td>\n",
       "      <td>3</td>\n",
       "      <td>Europe</td>\n",
       "    </tr>\n",
       "  </tbody>\n",
       "</table>\n",
       "</div>"
      ],
      "text/plain": [
       "   Daily Time Spent on Site  Age  Area Income  Daily Internet Usage  \\\n",
       "0                     68.95   35     61833.90                256.09   \n",
       "1                     80.23   31     68441.85                193.77   \n",
       "2                     69.47   26     59785.94                236.50   \n",
       "3                     74.15   29     54806.18                245.89   \n",
       "4                     68.37   35     73889.99                225.58   \n",
       "\n",
       "                           Ad Topic Line  Male     Country  Clicked on Ad  \\\n",
       "0     Cloned 5thgeneration orchestration     0     Tunisia              0   \n",
       "1     Monitored national standardization     1       Nauru              0   \n",
       "2       Organic bottom-line service-desk     0  San Marino              0   \n",
       "3  Triple-buffered reciprocal time-frame     1       Italy              0   \n",
       "4          Robust logistical utilization     0     Iceland              0   \n",
       "\n",
       "   Month  Weekday  Hour Continent  \n",
       "0      3        6     0    Africa  \n",
       "1      4        0     1   Oceania  \n",
       "2      3        6    20    Europe  \n",
       "3      1        6     2    Europe  \n",
       "4      6        4     3    Europe  "
      ]
     },
     "execution_count": 19,
     "metadata": {},
     "output_type": "execute_result"
    }
   ],
   "source": [
    "# combine to make big df with complete continents\n",
    "\n",
    "df = pd.concat([df_withcontinent, df_withoutcontinent], axis = 0)\n",
    "df.head()"
   ]
  },
  {
   "cell_type": "code",
   "execution_count": 20,
   "id": "3b037193",
   "metadata": {},
   "outputs": [
    {
     "data": {
      "text/plain": [
       "0"
      ]
     },
     "execution_count": 20,
     "metadata": {},
     "output_type": "execute_result"
    }
   ],
   "source": [
    "# check that none of the Continent entries are empty\n",
    "\n",
    "sum(df['Continent'] == '')"
   ]
  },
  {
   "cell_type": "markdown",
   "id": "7229f52e",
   "metadata": {},
   "source": [
    "### Finalize Dataset that We Want\n",
    "\n",
    "Now we have all the variables we want, so we can rearrange the columns to understand it better."
   ]
  },
  {
   "cell_type": "code",
   "execution_count": 21,
   "id": "f5a91386",
   "metadata": {},
   "outputs": [
    {
     "data": {
      "text/html": [
       "<div>\n",
       "<style scoped>\n",
       "    .dataframe tbody tr th:only-of-type {\n",
       "        vertical-align: middle;\n",
       "    }\n",
       "\n",
       "    .dataframe tbody tr th {\n",
       "        vertical-align: top;\n",
       "    }\n",
       "\n",
       "    .dataframe thead th {\n",
       "        text-align: right;\n",
       "    }\n",
       "</style>\n",
       "<table border=\"1\" class=\"dataframe\">\n",
       "  <thead>\n",
       "    <tr style=\"text-align: right;\">\n",
       "      <th></th>\n",
       "      <th>Ad Topic Line</th>\n",
       "      <th>Month</th>\n",
       "      <th>Weekday</th>\n",
       "      <th>Hour</th>\n",
       "      <th>Daily Time Spent on Site</th>\n",
       "      <th>Daily Internet Usage</th>\n",
       "      <th>Male</th>\n",
       "      <th>Age</th>\n",
       "      <th>Area Income</th>\n",
       "      <th>Country</th>\n",
       "      <th>Continent</th>\n",
       "      <th>Clicked on Ad</th>\n",
       "    </tr>\n",
       "  </thead>\n",
       "  <tbody>\n",
       "    <tr>\n",
       "      <th>0</th>\n",
       "      <td>Cloned 5thgeneration orchestration</td>\n",
       "      <td>3</td>\n",
       "      <td>6</td>\n",
       "      <td>0</td>\n",
       "      <td>68.95</td>\n",
       "      <td>256.09</td>\n",
       "      <td>0</td>\n",
       "      <td>35</td>\n",
       "      <td>61833.90</td>\n",
       "      <td>Tunisia</td>\n",
       "      <td>Africa</td>\n",
       "      <td>0</td>\n",
       "    </tr>\n",
       "    <tr>\n",
       "      <th>1</th>\n",
       "      <td>Monitored national standardization</td>\n",
       "      <td>4</td>\n",
       "      <td>0</td>\n",
       "      <td>1</td>\n",
       "      <td>80.23</td>\n",
       "      <td>193.77</td>\n",
       "      <td>1</td>\n",
       "      <td>31</td>\n",
       "      <td>68441.85</td>\n",
       "      <td>Nauru</td>\n",
       "      <td>Oceania</td>\n",
       "      <td>0</td>\n",
       "    </tr>\n",
       "    <tr>\n",
       "      <th>2</th>\n",
       "      <td>Organic bottom-line service-desk</td>\n",
       "      <td>3</td>\n",
       "      <td>6</td>\n",
       "      <td>20</td>\n",
       "      <td>69.47</td>\n",
       "      <td>236.50</td>\n",
       "      <td>0</td>\n",
       "      <td>26</td>\n",
       "      <td>59785.94</td>\n",
       "      <td>San Marino</td>\n",
       "      <td>Europe</td>\n",
       "      <td>0</td>\n",
       "    </tr>\n",
       "    <tr>\n",
       "      <th>3</th>\n",
       "      <td>Triple-buffered reciprocal time-frame</td>\n",
       "      <td>1</td>\n",
       "      <td>6</td>\n",
       "      <td>2</td>\n",
       "      <td>74.15</td>\n",
       "      <td>245.89</td>\n",
       "      <td>1</td>\n",
       "      <td>29</td>\n",
       "      <td>54806.18</td>\n",
       "      <td>Italy</td>\n",
       "      <td>Europe</td>\n",
       "      <td>0</td>\n",
       "    </tr>\n",
       "    <tr>\n",
       "      <th>4</th>\n",
       "      <td>Robust logistical utilization</td>\n",
       "      <td>6</td>\n",
       "      <td>4</td>\n",
       "      <td>3</td>\n",
       "      <td>68.37</td>\n",
       "      <td>225.58</td>\n",
       "      <td>0</td>\n",
       "      <td>35</td>\n",
       "      <td>73889.99</td>\n",
       "      <td>Iceland</td>\n",
       "      <td>Europe</td>\n",
       "      <td>0</td>\n",
       "    </tr>\n",
       "  </tbody>\n",
       "</table>\n",
       "</div>"
      ],
      "text/plain": [
       "                           Ad Topic Line  Month  Weekday  Hour  \\\n",
       "0     Cloned 5thgeneration orchestration      3        6     0   \n",
       "1     Monitored national standardization      4        0     1   \n",
       "2       Organic bottom-line service-desk      3        6    20   \n",
       "3  Triple-buffered reciprocal time-frame      1        6     2   \n",
       "4          Robust logistical utilization      6        4     3   \n",
       "\n",
       "   Daily Time Spent on Site  Daily Internet Usage  Male  Age  Area Income  \\\n",
       "0                     68.95                256.09     0   35     61833.90   \n",
       "1                     80.23                193.77     1   31     68441.85   \n",
       "2                     69.47                236.50     0   26     59785.94   \n",
       "3                     74.15                245.89     1   29     54806.18   \n",
       "4                     68.37                225.58     0   35     73889.99   \n",
       "\n",
       "      Country Continent  Clicked on Ad  \n",
       "0     Tunisia    Africa              0  \n",
       "1       Nauru   Oceania              0  \n",
       "2  San Marino    Europe              0  \n",
       "3       Italy    Europe              0  \n",
       "4     Iceland    Europe              0  "
      ]
     },
     "execution_count": 21,
     "metadata": {},
     "output_type": "execute_result"
    }
   ],
   "source": [
    "df = df[['Ad Topic Line', 'Month', 'Weekday', 'Hour', 'Daily Time Spent on Site', 'Daily Internet Usage', 'Male', 'Age', 'Area Income', \n",
    "        'Country', 'Continent', 'Clicked on Ad']]\n",
    "df.head()"
   ]
  },
  {
   "cell_type": "markdown",
   "id": "3c62431d",
   "metadata": {},
   "source": [
    "## Model Prediction of Clicks\n",
    "\n",
    "Firstly, we want to label encode the categorical data so machine learning models understand it. We can create a copy dataframe in case we want to go back to the original one and manipulate the original data."
   ]
  },
  {
   "cell_type": "code",
   "execution_count": 22,
   "id": "8123a43e",
   "metadata": {},
   "outputs": [],
   "source": [
    "df1 = df.copy()\n",
    "\n",
    "# label encode categorical data\n",
    "\n",
    "from sklearn import preprocessing\n",
    "\n",
    "le = preprocessing.LabelEncoder()\n",
    "df1['Ad Topic Line'] = le.fit_transform(df1['Ad Topic Line'])\n",
    "df1['Month'] = le.fit_transform(df1['Month'])\n",
    "df1['Hour'] = le.fit_transform(df1['Hour'])\n",
    "df1['Country'] = le.fit_transform(df1['Country'])\n",
    "df1['Continent'] = le.fit_transform(df1['Continent'])"
   ]
  },
  {
   "cell_type": "code",
   "execution_count": 23,
   "id": "cefa879c",
   "metadata": {},
   "outputs": [
    {
     "data": {
      "text/html": [
       "<div>\n",
       "<style scoped>\n",
       "    .dataframe tbody tr th:only-of-type {\n",
       "        vertical-align: middle;\n",
       "    }\n",
       "\n",
       "    .dataframe tbody tr th {\n",
       "        vertical-align: top;\n",
       "    }\n",
       "\n",
       "    .dataframe thead th {\n",
       "        text-align: right;\n",
       "    }\n",
       "</style>\n",
       "<table border=\"1\" class=\"dataframe\">\n",
       "  <thead>\n",
       "    <tr style=\"text-align: right;\">\n",
       "      <th></th>\n",
       "      <th>Ad Topic Line</th>\n",
       "      <th>Month</th>\n",
       "      <th>Weekday</th>\n",
       "      <th>Hour</th>\n",
       "      <th>Daily Time Spent on Site</th>\n",
       "      <th>Daily Internet Usage</th>\n",
       "      <th>Male</th>\n",
       "      <th>Age</th>\n",
       "      <th>Area Income</th>\n",
       "      <th>Country</th>\n",
       "      <th>Continent</th>\n",
       "      <th>Clicked on Ad</th>\n",
       "    </tr>\n",
       "  </thead>\n",
       "  <tbody>\n",
       "    <tr>\n",
       "      <th>0</th>\n",
       "      <td>91</td>\n",
       "      <td>2</td>\n",
       "      <td>6</td>\n",
       "      <td>0</td>\n",
       "      <td>68.95</td>\n",
       "      <td>256.09</td>\n",
       "      <td>0</td>\n",
       "      <td>35</td>\n",
       "      <td>61833.90</td>\n",
       "      <td>215</td>\n",
       "      <td>0</td>\n",
       "      <td>0</td>\n",
       "    </tr>\n",
       "    <tr>\n",
       "      <th>1</th>\n",
       "      <td>464</td>\n",
       "      <td>3</td>\n",
       "      <td>0</td>\n",
       "      <td>1</td>\n",
       "      <td>80.23</td>\n",
       "      <td>193.77</td>\n",
       "      <td>1</td>\n",
       "      <td>31</td>\n",
       "      <td>68441.85</td>\n",
       "      <td>147</td>\n",
       "      <td>5</td>\n",
       "      <td>0</td>\n",
       "    </tr>\n",
       "    <tr>\n",
       "      <th>2</th>\n",
       "      <td>566</td>\n",
       "      <td>2</td>\n",
       "      <td>6</td>\n",
       "      <td>20</td>\n",
       "      <td>69.47</td>\n",
       "      <td>236.50</td>\n",
       "      <td>0</td>\n",
       "      <td>26</td>\n",
       "      <td>59785.94</td>\n",
       "      <td>184</td>\n",
       "      <td>3</td>\n",
       "      <td>0</td>\n",
       "    </tr>\n",
       "    <tr>\n",
       "      <th>3</th>\n",
       "      <td>903</td>\n",
       "      <td>0</td>\n",
       "      <td>6</td>\n",
       "      <td>2</td>\n",
       "      <td>74.15</td>\n",
       "      <td>245.89</td>\n",
       "      <td>1</td>\n",
       "      <td>29</td>\n",
       "      <td>54806.18</td>\n",
       "      <td>103</td>\n",
       "      <td>3</td>\n",
       "      <td>0</td>\n",
       "    </tr>\n",
       "    <tr>\n",
       "      <th>4</th>\n",
       "      <td>766</td>\n",
       "      <td>5</td>\n",
       "      <td>4</td>\n",
       "      <td>3</td>\n",
       "      <td>68.37</td>\n",
       "      <td>225.58</td>\n",
       "      <td>0</td>\n",
       "      <td>35</td>\n",
       "      <td>73889.99</td>\n",
       "      <td>96</td>\n",
       "      <td>3</td>\n",
       "      <td>0</td>\n",
       "    </tr>\n",
       "  </tbody>\n",
       "</table>\n",
       "</div>"
      ],
      "text/plain": [
       "   Ad Topic Line  Month  Weekday  Hour  Daily Time Spent on Site  \\\n",
       "0             91      2        6     0                     68.95   \n",
       "1            464      3        0     1                     80.23   \n",
       "2            566      2        6    20                     69.47   \n",
       "3            903      0        6     2                     74.15   \n",
       "4            766      5        4     3                     68.37   \n",
       "\n",
       "   Daily Internet Usage  Male  Age  Area Income  Country  Continent  \\\n",
       "0                256.09     0   35     61833.90      215          0   \n",
       "1                193.77     1   31     68441.85      147          5   \n",
       "2                236.50     0   26     59785.94      184          3   \n",
       "3                245.89     1   29     54806.18      103          3   \n",
       "4                225.58     0   35     73889.99       96          3   \n",
       "\n",
       "   Clicked on Ad  \n",
       "0              0  \n",
       "1              0  \n",
       "2              0  \n",
       "3              0  \n",
       "4              0  "
      ]
     },
     "execution_count": 23,
     "metadata": {},
     "output_type": "execute_result"
    }
   ],
   "source": [
    "df1.head()"
   ]
  },
  {
   "cell_type": "markdown",
   "id": "ea2557aa",
   "metadata": {},
   "source": [
    "### Correlation Matrix"
   ]
  },
  {
   "cell_type": "markdown",
   "id": "cf11a615",
   "metadata": {},
   "source": [
    "We can now try to plot a correlation Matrix between variables."
   ]
  },
  {
   "cell_type": "code",
   "execution_count": 24,
   "id": "7b46d124",
   "metadata": {},
   "outputs": [
    {
     "data": {
      "text/plain": [
       "<function matplotlib.pyplot.show(close=None, block=None)>"
      ]
     },
     "execution_count": 24,
     "metadata": {},
     "output_type": "execute_result"
    },
    {
     "data": {
      "image/png": "[encoded data removed]",
      "text/plain": [
       "<Figure size 432x288 with 2 Axes>"
      ]
     },
     "metadata": {
      "needs_background": "light"
     },
     "output_type": "display_data"
    }
   ],
   "source": [
    "import matplotlib.pyplot as plt\n",
    "import seaborn as sns\n",
    "\n",
    "plt.figure()\n",
    "sns.heatmap(df1.corr())\n",
    "plt.title('Correlation Matrix')\n",
    "plt.show"
   ]
  },
  {
   "cell_type": "markdown",
   "id": "14037afb",
   "metadata": {},
   "source": [
    "Interestingly, for the Clicked on Ad variable, there appears to be negative correlations with Daily Time Spent on Site, Daily Internet Usage, and Area Income. There appears to be a positive correlation with Age. We can investigate this further after implementing the model.\n",
    "\n",
    "We can now split the data into features and target, then into train and test data."
   ]
  },
  {
   "cell_type": "code",
   "execution_count": 25,
   "id": "039e2b1a",
   "metadata": {},
   "outputs": [],
   "source": [
    "# split df into features and target\n",
    "\n",
    "X = df1.loc[:, 'Ad Topic Line':'Continent']\n",
    "y = df1['Clicked on Ad']\n",
    "\n",
    "# split into train and test data\n",
    "\n",
    "from sklearn.model_selection import train_test_split\n",
    "\n",
    "X_train, X_test, y_train, y_test = train_test_split(X, y, random_state = 100)"
   ]
  },
  {
   "cell_type": "markdown",
   "id": "5bb0015e",
   "metadata": {},
   "source": [
    "### K-Nearest Neighbors Algorithm\n",
    "\n",
    "In using the K-Nearest Neighbors Algorithm in this project, we can focus on tuning the optimal number of neighbors to use, i.e. the hyperparameter `n_neighbors`. We can use basic cross validation to select the optimal number."
   ]
  },
  {
   "cell_type": "code",
   "execution_count": 26,
   "id": "bd40aa3e",
   "metadata": {},
   "outputs": [
    {
     "data": {
      "text/plain": [
       "array([0.755, 0.65 , 0.72 , 0.705, 0.72 ])"
      ]
     },
     "execution_count": 26,
     "metadata": {},
     "output_type": "execute_result"
    }
   ],
   "source": [
    "# perform cross validation to select optimal k\n",
    "\n",
    "from sklearn.model_selection import cross_val_score\n",
    "from sklearn.neighbors import KNeighborsClassifier\n",
    "\n",
    "neighbors = []\n",
    "cv_scores = []\n",
    "\n",
    "# choose a number k from 1 to 30\n",
    "for k in range(1, 31):\n",
    "    neighbors.append(k)\n",
    "    knn = KNeighborsClassifier(n_neighbors = k)\n",
    "    scores = cross_val_score(knn, X_train, y_train, scoring = 'accuracy')\n",
    "    cv_scores.append(scores.mean())\n",
    "\n",
    "scores = cross_val_score(knn, X, y, scoring = 'accuracy')\n",
    "scores"
   ]
  },
  {
   "cell_type": "code",
   "execution_count": 27,
   "id": "61f0f445",
   "metadata": {},
   "outputs": [
    {
     "data": {
      "text/plain": [
       "29"
      ]
     },
     "execution_count": 27,
     "metadata": {},
     "output_type": "execute_result"
    }
   ],
   "source": [
    "# plot misclassification errors\n",
    "\n",
    "MSE = [1 - x for x in cv_scores]\n",
    "\n",
    "optimal_k = neighbors[MSE.index(min(MSE))]\n",
    "optimal_k"
   ]
  },
  {
   "cell_type": "code",
   "execution_count": 28,
   "id": "62c45356",
   "metadata": {},
   "outputs": [
    {
     "data": {
      "image/png": "[encoded data removed]",
      "text/plain": [
       "<Figure size 432x288 with 1 Axes>"
      ]
     },
     "metadata": {
      "needs_background": "light"
     },
     "output_type": "display_data"
    }
   ],
   "source": [
    "plt.figure()\n",
    "plt.plot(neighbors, MSE)\n",
    "plt.xlabel('Number of K Neighbors')\n",
    "plt.ylabel('Misclassification Error')\n",
    "plt.title('Misclassification Errors')\n",
    "plt.show()"
   ]
  },
  {
   "cell_type": "markdown",
   "id": "e9b6dd3d",
   "metadata": {},
   "source": [
    "It seems that the model with the lowest Misclassification Error is indeed the one with 29 neighbors."
   ]
  },
  {
   "cell_type": "code",
   "execution_count": 29,
   "id": "73bc4d00",
   "metadata": {},
   "outputs": [
    {
     "data": {
      "text/plain": [
       "array([1, 1, 0, 1, 0, 0, 0, 0, 1, 1, 0, 1, 1, 1, 0, 0, 0, 1, 1, 1, 0, 1,\n",
       "       0, 0, 0, 0, 0, 0, 1, 1, 0, 1, 0, 0, 1, 1, 1, 1, 0, 0, 1, 0, 0, 1,\n",
       "       0, 0, 0, 0, 0, 0, 0, 1, 1, 0, 1, 0, 1, 0, 1, 0, 0, 1, 1, 0, 0, 0,\n",
       "       0, 1, 1, 1, 0, 0, 1, 0, 0, 1, 0, 0, 1, 0, 0, 1, 1, 0, 0, 0, 0, 1,\n",
       "       0, 1, 0, 0, 0, 0, 1, 0, 1, 0, 0, 0, 0, 1, 0, 0, 0, 0, 0, 0, 0, 0,\n",
       "       0, 0, 0, 0, 1, 0, 0, 0, 1, 0, 1, 0, 0, 1, 0, 0, 0, 0, 1, 0, 1, 1,\n",
       "       0, 0, 0, 0, 0, 1, 0, 1, 1, 0, 0, 1, 0, 0, 1, 0, 0, 1, 1, 0, 0, 0,\n",
       "       0, 0, 0, 0, 1, 0, 0, 1, 1, 1, 0, 0, 0, 1, 1, 0, 0, 0, 1, 0, 0, 0,\n",
       "       0, 0, 1, 0, 1, 0, 0, 0, 0, 0, 1, 0, 1, 1, 0, 0, 0, 0, 0, 1, 1, 1,\n",
       "       1, 0, 0, 1, 1, 1, 0, 0, 1, 1, 1, 1, 1, 0, 1, 1, 0, 0, 1, 0, 0, 0,\n",
       "       0, 0, 1, 1, 0, 1, 0, 0, 0, 1, 1, 0, 1, 0, 1, 0, 0, 1, 0, 1, 0, 1,\n",
       "       0, 0, 1, 0, 1, 1, 0, 0], dtype=int64)"
      ]
     },
     "execution_count": 29,
     "metadata": {},
     "output_type": "execute_result"
    }
   ],
   "source": [
    "knn = KNeighborsClassifier(n_neighbors = 29)\n",
    "knn.fit(X_train, y_train)\n",
    "y_pred = knn.predict(X_test)\n",
    "y_pred"
   ]
  },
  {
   "cell_type": "markdown",
   "id": "8d62034b",
   "metadata": {},
   "source": [
    "We can check the accuracy score."
   ]
  },
  {
   "cell_type": "code",
   "execution_count": 30,
   "id": "e2d38650",
   "metadata": {},
   "outputs": [
    {
     "data": {
      "text/plain": [
       "0.732"
      ]
     },
     "execution_count": 30,
     "metadata": {},
     "output_type": "execute_result"
    }
   ],
   "source": [
    "from sklearn.metrics import accuracy_score\n",
    "\n",
    "accuracy_score(y_test, y_pred)"
   ]
  },
  {
   "cell_type": "markdown",
   "id": "2ce08ce2",
   "metadata": {},
   "source": [
    "This is a low accuracy score. A good model has an accuracy score of at least 90. We can plot the accuracy scores of the values of k to see if the accuracy scores increase at some point."
   ]
  },
  {
   "cell_type": "code",
   "execution_count": 31,
   "id": "990b546e",
   "metadata": {},
   "outputs": [
    {
     "data": {
      "text/plain": [
       "<function matplotlib.pyplot.show(close=None, block=None)>"
      ]
     },
     "execution_count": 31,
     "metadata": {},
     "output_type": "execute_result"
    },
    {
     "data": {
      "image/png": "[encoded data removed]",
      "text/plain": [
       "<Figure size 432x288 with 1 Axes>"
      ]
     },
     "metadata": {
      "needs_background": "light"
     },
     "output_type": "display_data"
    }
   ],
   "source": [
    "# plot accuracy scores to see\n",
    "\n",
    "neighbors = []\n",
    "accuracy_scores = []\n",
    "\n",
    "for k in range(1, 51):\n",
    "    neighbors.append(k)\n",
    "    knn = KNeighborsClassifier(n_neighbors = k)\n",
    "    knn.fit(X_train, y_train)\n",
    "    y_pred = knn.predict(X_test)\n",
    "    accuracy_scores.append(accuracy_score(y_test, y_pred))\n",
    "    \n",
    "plt.figure()\n",
    "plt.plot(neighbors, accuracy_scores)\n",
    "plt.xlabel('Number of K Neighbors')\n",
    "plt.ylabel('Accuracy Score')\n",
    "plt.title('Accuracy Scores')\n",
    "plt.show"
   ]
  },
  {
   "cell_type": "markdown",
   "id": "b23a956d",
   "metadata": {},
   "source": [
    "Since the accuracy score is still low until `k = 50`, this suggests that we might have to choose a different model."
   ]
  },
  {
   "cell_type": "markdown",
   "id": "c725815d",
   "metadata": {},
   "source": [
    "### Random Forest\n",
    "\n",
    "For this project, the hyperparameter we will look at is the number of estimators, i.e. n_estimators."
   ]
  },
  {
   "cell_type": "code",
   "execution_count": 32,
   "id": "1a79ef20",
   "metadata": {},
   "outputs": [
    {
     "data": {
      "text/plain": [
       "array([1, 1, 0, 1, 0, 1, 0, 0, 0, 1, 0, 1, 1, 1, 0, 0, 1, 1, 0, 1, 0, 1,\n",
       "       1, 0, 0, 0, 1, 1, 0, 0, 1, 1, 0, 0, 0, 1, 1, 1, 0, 0, 1, 0, 1, 0,\n",
       "       0, 1, 0, 1, 0, 0, 0, 1, 1, 1, 1, 1, 1, 1, 0, 1, 0, 0, 1, 1, 0, 0,\n",
       "       0, 1, 0, 1, 1, 1, 1, 0, 0, 0, 1, 0, 1, 0, 1, 1, 0, 1, 0, 0, 0, 0,\n",
       "       0, 1, 1, 0, 1, 0, 1, 1, 1, 0, 1, 0, 0, 0, 1, 0, 0, 0, 1, 0, 1, 0,\n",
       "       0, 0, 0, 1, 1, 1, 0, 0, 1, 0, 1, 0, 0, 0, 0, 0, 0, 0, 1, 1, 1, 1,\n",
       "       0, 0, 0, 0, 0, 1, 0, 0, 1, 1, 1, 1, 0, 0, 1, 0, 0, 1, 1, 1, 1, 0,\n",
       "       0, 0, 0, 1, 0, 0, 0, 1, 0, 1, 0, 0, 0, 1, 1, 0, 1, 1, 1, 1, 1, 0,\n",
       "       1, 0, 1, 1, 1, 0, 0, 0, 1, 0, 0, 1, 1, 1, 1, 0, 1, 0, 1, 1, 0, 1,\n",
       "       1, 0, 0, 1, 1, 1, 0, 0, 1, 1, 1, 0, 1, 1, 1, 1, 0, 0, 1, 0, 1, 0,\n",
       "       0, 1, 1, 1, 0, 1, 0, 0, 0, 1, 0, 1, 1, 0, 1, 0, 0, 1, 1, 1, 0, 1,\n",
       "       0, 0, 1, 0, 1, 1, 1, 1], dtype=int64)"
      ]
     },
     "execution_count": 32,
     "metadata": {},
     "output_type": "execute_result"
    }
   ],
   "source": [
    "from sklearn.ensemble import RandomForestClassifier\n",
    "\n",
    "# choose 100 estimators\n",
    "\n",
    "rf = RandomForestClassifier(n_estimators = 100) \n",
    "rf.fit(X_train, y_train)\n",
    "y_pred = rf.predict(X_test)\n",
    "y_pred"
   ]
  },
  {
   "cell_type": "markdown",
   "id": "9ff2f4a9",
   "metadata": {},
   "source": [
    "Let's check the accuracy score."
   ]
  },
  {
   "cell_type": "code",
   "execution_count": 33,
   "id": "8b7c00d6",
   "metadata": {},
   "outputs": [
    {
     "data": {
      "text/plain": [
       "0.96"
      ]
     },
     "execution_count": 33,
     "metadata": {},
     "output_type": "execute_result"
    }
   ],
   "source": [
    "accuracy_score(y_test, y_pred)"
   ]
  },
  {
   "cell_type": "markdown",
   "id": "679bdab7",
   "metadata": {},
   "source": [
    "Since the accuracy score is high, we can simply use this hyperparameter. We can also plot the accuracy scores to see if there is significant improvements we can make by choosing different values of n_estimators. "
   ]
  },
  {
   "cell_type": "code",
   "execution_count": 34,
   "id": "98e19b66",
   "metadata": {},
   "outputs": [
    {
     "data": {
      "text/plain": [
       "<function matplotlib.pyplot.show(close=None, block=None)>"
      ]
     },
     "execution_count": 34,
     "metadata": {},
     "output_type": "execute_result"
    },
    {
     "data": {
      "image/png": "[encoded data removed]",
      "text/plain": [
       "<Figure size 432x288 with 1 Axes>"
      ]
     },
     "metadata": {
      "needs_background": "light"
     },
     "output_type": "display_data"
    }
   ],
   "source": [
    "# plot accuracy scores to see\n",
    "\n",
    "estimators = []\n",
    "accuracy_scores = []\n",
    "\n",
    "for e in range(1, 200):\n",
    "    estimators.append(e)\n",
    "    rf = RandomForestClassifier(n_estimators = e)\n",
    "    rf.fit(X_train, y_train)\n",
    "    y_pred = rf.predict(X_test)\n",
    "    accuracy_scores.append(accuracy_score(y_test, y_pred))\n",
    "    \n",
    "plt.figure()\n",
    "plt.plot(estimators, accuracy_scores)\n",
    "plt.xlabel('Number of Estimators')\n",
    "plt.ylabel('Accuracy Score')\n",
    "plt.title('Accuracy Scores')\n",
    "plt.show"
   ]
  },
  {
   "cell_type": "markdown",
   "id": "0d3b5141",
   "metadata": {},
   "source": [
    "Since there is not much improvements, we can just stick to this model and number of estimators.\n",
    "\n",
    "**Note:** We can further tune the other hyperparameters of this model to increase the accuracy scores and provide more accurate predictions, but for the sake of simplicity we can just use the model as is.\n",
    "\n",
    "We can create a confusion matrix of the model and look at feature importances."
   ]
  },
  {
   "cell_type": "code",
   "execution_count": 35,
   "id": "81dba345",
   "metadata": {},
   "outputs": [
    {
     "data": {
      "text/plain": [
       "array([[120,   6],\n",
       "       [  5, 119]], dtype=int64)"
      ]
     },
     "execution_count": 35,
     "metadata": {},
     "output_type": "execute_result"
    }
   ],
   "source": [
    "# create the confusion matrix\n",
    "\n",
    "from sklearn.metrics import confusion_matrix\n",
    "\n",
    "cm = confusion_matrix(y_test, y_pred)\n",
    "cm"
   ]
  },
  {
   "cell_type": "code",
   "execution_count": 36,
   "id": "d255f27b",
   "metadata": {},
   "outputs": [
    {
     "data": {
      "image/png": "[encoded data removed]",
      "text/plain": [
       "<Figure size 432x288 with 2 Axes>"
      ]
     },
     "metadata": {
      "needs_background": "light"
     },
     "output_type": "display_data"
    }
   ],
   "source": [
    "ax = sns.heatmap(cm, annot = True, cmap='Reds')\n",
    "\n",
    "ax.set_title('Confusion Matrix ');\n",
    "ax.set_xlabel('Predicted Values')\n",
    "ax.set_ylabel('Actual Values ');\n",
    "\n",
    "## Ticket labels - List must be in alphabetical order\n",
    "ax.xaxis.set_ticklabels([0, 1])\n",
    "ax.yaxis.set_ticklabels([0, 1])\n",
    "\n",
    "## Display the visualization of the Confusion Matrix.\n",
    "plt.show()"
   ]
  },
  {
   "cell_type": "code",
   "execution_count": 37,
   "id": "81cb6f82",
   "metadata": {},
   "outputs": [
    {
     "data": {
      "text/plain": [
       "Ad Topic Line               0.018647\n",
       "Month                       0.009147\n",
       "Weekday                     0.007758\n",
       "Hour                        0.013038\n",
       "Daily Time Spent on Site    0.304210\n",
       "Daily Internet Usage        0.424202\n",
       "Male                        0.003017\n",
       "Age                         0.091341\n",
       "Area Income                 0.102469\n",
       "Country                     0.017306\n",
       "Continent                   0.008866\n",
       "dtype: float64"
      ]
     },
     "execution_count": 37,
     "metadata": {},
     "output_type": "execute_result"
    }
   ],
   "source": [
    "# look at feature impor\n",
    "\n",
    "feature_imp = pd.Series(rf.feature_importances_, index = df1.columns[:-1:])\n",
    "feature_imp"
   ]
  },
  {
   "cell_type": "code",
   "execution_count": 38,
   "id": "5d65eff2",
   "metadata": {},
   "outputs": [
    {
     "data": {
      "text/plain": [
       "<function matplotlib.pyplot.show(close=None, block=None)>"
      ]
     },
     "execution_count": 38,
     "metadata": {},
     "output_type": "execute_result"
    },
    {
     "data": {
      "image/png": "[encoded data removed]",
      "text/plain": [
       "<Figure size 432x288 with 1 Axes>"
      ]
     },
     "metadata": {
      "needs_background": "light"
     },
     "output_type": "display_data"
    }
   ],
   "source": [
    "plt.figure()\n",
    "plt.barh(list(feature_imp.index), list(feature_imp))\n",
    "plt.xlabel('Model Features')\n",
    "plt.ylabel('Feature Importance')\n",
    "plt.title('Feature Importances of Random Forest')\n",
    "plt.show"
   ]
  },
  {
   "cell_type": "markdown",
   "id": "60257776",
   "metadata": {},
   "source": [
    "The plot shows that Daily Internet Usage and Daily Time Spent on Site have high importance, and Age and Area Income have relatively higher importance. This confirms our hypothesis from the correlation heatmap.\n",
    "\n",
    "We can now map out the click rates based on these variables."
   ]
  },
  {
   "cell_type": "markdown",
   "id": "64751449",
   "metadata": {},
   "source": [
    "## Click Rates by Variables\n",
    "\n",
    "### Click Rate by Daily Time Spent on Site"
   ]
  },
  {
   "cell_type": "code",
   "execution_count": 39,
   "id": "9aae05f9",
   "metadata": {},
   "outputs": [
    {
     "data": {
      "text/plain": [
       "<function matplotlib.pyplot.show(close=None, block=None)>"
      ]
     },
     "execution_count": 39,
     "metadata": {},
     "output_type": "execute_result"
    },
    {
     "data": {
      "image/png": "[encoded data removed]",
      "text/plain": [
       "<Figure size 432x288 with 1 Axes>"
      ]
     },
     "metadata": {
      "needs_background": "light"
     },
     "output_type": "display_data"
    }
   ],
   "source": [
    "# map out distribution of Daily Time\n",
    "\n",
    "plt.figure()\n",
    "plt.hist(df['Daily Time Spent on Site'], bins = 8)\n",
    "plt.title('Daily Time Spent on Site Distribution')\n",
    "plt.xlabel('Daily Time Spent on Site (Minutes)')\n",
    "plt.ylabel('Count')\n",
    "plt.show"
   ]
  },
  {
   "cell_type": "code",
   "execution_count": 40,
   "id": "4768ad6f",
   "metadata": {},
   "outputs": [
    {
     "data": {
      "text/plain": [
       "Daily Time Spent on Site\n",
       "(32.541, 39.954]    1.000000\n",
       "(39.954, 47.308]    1.000000\n",
       "(47.308, 54.661]    0.953488\n",
       "(54.661, 62.015]    0.857143\n",
       "(62.015, 69.369]    0.519084\n",
       "(69.369, 76.722]    0.184971\n",
       "(76.722, 84.076]    0.090476\n",
       "(84.076, 91.43]     0.085106\n",
       "Name: Clicked on Ad, dtype: float64"
      ]
     },
     "execution_count": 40,
     "metadata": {},
     "output_type": "execute_result"
    }
   ],
   "source": [
    "# click rate groupby bins\n",
    "\n",
    "clickrate_dailytime = df.groupby(pd.cut(df['Daily Time Spent on Site'], bins = 8))['Clicked on Ad'].mean()\n",
    "clickrate_dailytime"
   ]
  },
  {
   "cell_type": "code",
   "execution_count": 41,
   "id": "c0003db3",
   "metadata": {},
   "outputs": [
    {
     "data": {
      "text/plain": [
       "<function matplotlib.pyplot.show(close=None, block=None)>"
      ]
     },
     "execution_count": 41,
     "metadata": {},
     "output_type": "execute_result"
    },
    {
     "data": {
      "image/png": "[encoded data removed]",
      "text/plain": [
       "<Figure size 432x288 with 1 Axes>"
      ]
     },
     "metadata": {
      "needs_background": "light"
     },
     "output_type": "display_data"
    }
   ],
   "source": [
    "plt.figure()\n",
    "plt.barh((clickrate_dailytime.index).astype(str), list(clickrate_dailytime))\n",
    "plt.title('Click Rates by Daily Time Spent on Site')\n",
    "plt.xlabel('Click Rate')\n",
    "plt.ylabel('Daily Time Spent on Site (Minutes)')\n",
    "plt.show"
   ]
  },
  {
   "cell_type": "markdown",
   "id": "8e0985d5",
   "metadata": {},
   "source": [
    "We see that people with Daily Time Spent on Site <= approx. 62 minutes tend to have a mean click rate higher than 0.8."
   ]
  },
  {
   "cell_type": "markdown",
   "id": "a373fb24",
   "metadata": {},
   "source": [
    "### Click Rate by Daily Internet Usage"
   ]
  },
  {
   "cell_type": "code",
   "execution_count": 42,
   "id": "c108f928",
   "metadata": {},
   "outputs": [
    {
     "data": {
      "text/plain": [
       "<function matplotlib.pyplot.show(close=None, block=None)>"
      ]
     },
     "execution_count": 42,
     "metadata": {},
     "output_type": "execute_result"
    },
    {
     "data": {
      "image/png": "[encoded data removed]",
      "text/plain": [
       "<Figure size 432x288 with 1 Axes>"
      ]
     },
     "metadata": {
      "needs_background": "light"
     },
     "output_type": "display_data"
    }
   ],
   "source": [
    "# map out distribution of Daily Internet Usage\n",
    "\n",
    "plt.figure()\n",
    "plt.hist(df['Daily Internet Usage'], bins = 8)\n",
    "plt.title('Daily Internet Usage Distribution')\n",
    "plt.xlabel('Daily Internet Usage (Minutes)')\n",
    "plt.ylabel('Count')\n",
    "plt.show"
   ]
  },
  {
   "cell_type": "code",
   "execution_count": 43,
   "id": "a5a62d62",
   "metadata": {},
   "outputs": [
    {
     "data": {
      "text/plain": [
       "Daily Internet Usage\n",
       "(104.615, 125.428]    1.000000\n",
       "(125.428, 146.075]    1.000000\n",
       "(146.075, 166.722]    0.842975\n",
       "(166.722, 187.37]     0.523810\n",
       "(187.37, 208.017]     0.186207\n",
       "(208.017, 228.665]    0.060606\n",
       "(228.665, 249.312]    0.038760\n",
       "(249.312, 269.96]     0.150000\n",
       "Name: Clicked on Ad, dtype: float64"
      ]
     },
     "execution_count": 43,
     "metadata": {},
     "output_type": "execute_result"
    }
   ],
   "source": [
    "# click rate \n",
    "\n",
    "clickrate_dailyinternet = df.groupby(pd.cut(df['Daily Internet Usage'], bins = 8))['Clicked on Ad'].mean()\n",
    "clickrate_dailyinternet"
   ]
  },
  {
   "cell_type": "code",
   "execution_count": 44,
   "id": "fe246c13",
   "metadata": {},
   "outputs": [
    {
     "data": {
      "text/plain": [
       "<function matplotlib.pyplot.show(close=None, block=None)>"
      ]
     },
     "execution_count": 44,
     "metadata": {},
     "output_type": "execute_result"
    },
    {
     "data": {
      "image/png": "[encoded data removed]",
      "text/plain": [
       "<Figure size 432x288 with 1 Axes>"
      ]
     },
     "metadata": {
      "needs_background": "light"
     },
     "output_type": "display_data"
    }
   ],
   "source": [
    "plt.figure()\n",
    "plt.barh((clickrate_dailyinternet.index).astype(str), list(clickrate_dailyinternet))\n",
    "plt.title('Click Rates by Daily Internet Usage')\n",
    "plt.xlabel('Click Rate')\n",
    "plt.ylabel('Daily Internet Usage (Minutes)')\n",
    "plt.show"
   ]
  },
  {
   "cell_type": "markdown",
   "id": "1f7988ea",
   "metadata": {},
   "source": [
    "We see that people with Daily Internet Usage <= approx. 167 minutes tend to have a mean click rate higher than 0.8."
   ]
  },
  {
   "cell_type": "markdown",
   "id": "f465f04e",
   "metadata": {},
   "source": [
    "### Click Rate by Area Income"
   ]
  },
  {
   "cell_type": "code",
   "execution_count": 45,
   "id": "37300ebc",
   "metadata": {},
   "outputs": [
    {
     "data": {
      "text/plain": [
       "<function matplotlib.pyplot.show(close=None, block=None)>"
      ]
     },
     "execution_count": 45,
     "metadata": {},
     "output_type": "execute_result"
    },
    {
     "data": {
      "image/png": "[encoded data removed]",
      "text/plain": [
       "<Figure size 432x288 with 1 Axes>"
      ]
     },
     "metadata": {
      "needs_background": "light"
     },
     "output_type": "display_data"
    }
   ],
   "source": [
    "# map out distribution of Area Income\n",
    "plt.figure()\n",
    "plt.hist(df['Area Income'])\n",
    "plt.title('Area Income Distribution')\n",
    "plt.xlabel('Area Income (US$)')\n",
    "plt.ylabel('Count')\n",
    "plt.show"
   ]
  },
  {
   "cell_type": "code",
   "execution_count": 46,
   "id": "9a5a591c",
   "metadata": {},
   "outputs": [
    {
     "data": {
      "text/plain": [
       "Area Income\n",
       "(13931.012, 20545.33]    1.000000\n",
       "(20545.33, 27094.16]     1.000000\n",
       "(27094.16, 33642.99]     0.959184\n",
       "(33642.99, 40191.82]     0.868852\n",
       "(40191.82, 46740.65]     0.747368\n",
       "(46740.65, 53289.48]     0.611111\n",
       "(53289.48, 59838.31]     0.435294\n",
       "(59838.31, 66387.14]     0.283019\n",
       "(66387.14, 72935.97]     0.268456\n",
       "(72935.97, 79484.8]      0.258065\n",
       "Name: Clicked on Ad, dtype: float64"
      ]
     },
     "execution_count": 46,
     "metadata": {},
     "output_type": "execute_result"
    }
   ],
   "source": [
    "# click rate groupby bins\n",
    "\n",
    "clickrate_areaincome = df.groupby(pd.cut(df['Area Income'], bins = 10))['Clicked on Ad'].mean()\n",
    "clickrate_areaincome"
   ]
  },
  {
   "cell_type": "code",
   "execution_count": 47,
   "id": "a9a4d1cc",
   "metadata": {},
   "outputs": [
    {
     "data": {
      "text/plain": [
       "<function matplotlib.pyplot.show(close=None, block=None)>"
      ]
     },
     "execution_count": 47,
     "metadata": {},
     "output_type": "execute_result"
    },
    {
     "data": {
      "image/png": "[encoded data removed]",
      "text/plain": [
       "<Figure size 432x288 with 1 Axes>"
      ]
     },
     "metadata": {
      "needs_background": "light"
     },
     "output_type": "display_data"
    }
   ],
   "source": [
    "plt.figure()\n",
    "plt.barh((clickrate_areaincome.index).astype(str), list(clickrate_areaincome))\n",
    "plt.title('Click Rates by Area Income')\n",
    "plt.xlabel('Click Rate')\n",
    "plt.ylabel('Area Income (US$)')\n",
    "plt.show"
   ]
  },
  {
   "cell_type": "markdown",
   "id": "fa8de35c",
   "metadata": {},
   "source": [
    "We see that people with Area Income <= approx. 40.2K tend to have a mean click rate higher than 0.8."
   ]
  },
  {
   "cell_type": "markdown",
   "id": "b2439b7f",
   "metadata": {},
   "source": [
    "### Click Rate by Age"
   ]
  },
  {
   "cell_type": "code",
   "execution_count": 48,
   "id": "2b6bfe38",
   "metadata": {},
   "outputs": [
    {
     "data": {
      "text/plain": [
       "[0.24621212121212122,\n",
       " 0.41119221411192214,\n",
       " 0.7639484978540773,\n",
       " 0.9565217391304348]"
      ]
     },
     "execution_count": 48,
     "metadata": {},
     "output_type": "execute_result"
    }
   ],
   "source": [
    "# split by age ranges: 19-29, 30-39, 40-49, 50-61\n",
    "\n",
    "age_ranges = ['19-29', '30-39', '40-49', '50-61']\n",
    "\n",
    "click_rate = []\n",
    "\n",
    "for s in age_ranges:\n",
    "    df_age = df[(df['Age'] >= int(s[0:2])) & (df['Age'] <= int(s[3:]))]\n",
    "    click_rate_age = sum(df_age['Clicked on Ad']) / len(df_age)\n",
    "    click_rate.append(click_rate_age)\n",
    "\n",
    "click_rate"
   ]
  },
  {
   "cell_type": "code",
   "execution_count": 49,
   "id": "ce0fb80e",
   "metadata": {},
   "outputs": [
    {
     "data": {
      "text/plain": [
       "<function matplotlib.pyplot.show(close=None, block=None)>"
      ]
     },
     "execution_count": 49,
     "metadata": {},
     "output_type": "execute_result"
    },
    {
     "data": {
      "image/png": "[encoded data removed]",
      "text/plain": [
       "<Figure size 432x288 with 1 Axes>"
      ]
     },
     "metadata": {
      "needs_background": "light"
     },
     "output_type": "display_data"
    }
   ],
   "source": [
    "plt.figure()\n",
    "plt.bar(age_ranges, click_rate)\n",
    "plt.title('Click Rates by Age')\n",
    "plt.ylabel('Click Rate')\n",
    "plt.xlabel('Age (Years)')\n",
    "plt.show"
   ]
  },
  {
   "cell_type": "markdown",
   "id": "af2f799f",
   "metadata": {},
   "source": [
    "We see that people with Age >= 40 tend to have a mean click rate of approx. 80.\n",
    "\n",
    "## Conclusion\n",
    "\n",
    "From the analysis of these four variables, we can say that the people who are most likely to click on the ad are those with:\n",
    "- Low Daily Time Spent on Site (<= ~62 minutes)\n",
    "- Low Daily Internet Usage (<= ~167 minutes)\n",
    "- Low Area Income (<= ~40.2K)\n",
    "- High Age (>= 40 years)\n",
    "\n",
    "Using a Random Forest model with 100 estimators, we are able to obtain an accuracy score of >= 95%"
   ]
  }
 ],
 "metadata": {
  "kernelspec": {
   "display_name": "Python 3 (ipykernel)",
   "language": "python",
   "name": "python3"
  },
  "language_info": {
   "codemirror_mode": {
    "name": "ipython",
    "version": 3
   },
   "file_extension": ".py",
   "mimetype": "text/x-python",
   "name": "python",
   "nbconvert_exporter": "python",
   "pygments_lexer": "ipython3",
   "version": "3.8.12"
  }
 },
 "nbformat": 4,
 "nbformat_minor": 5
}
